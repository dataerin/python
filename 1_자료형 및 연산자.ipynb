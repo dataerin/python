{
 "cells": [
  {
   "cell_type": "markdown",
   "metadata": {},
   "source": [
    "# 파이썬 기초 문법: 자료형 및 연산자\n",
    "\n",
    "### 파이썬 공식 문서 관련 링크\n",
    "\n",
    "1. **파이썬 공식 문서 (메인)**\n",
    "   - https://docs.python.org/ko/3/\n",
    "\n",
    "2. **자료형 관련 문서**\n",
    "   - 내장 자료형: https://docs.python.org/ko/3/library/stdtypes.html\n",
    "   - 숫자형: https://docs.python.org/ko/3/library/stdtypes.html#numeric-types-int-float-complex\n",
    "   - 문자열: https://docs.python.org/ko/3/library/stdtypes.html#text-sequence-type-str\n",
    "   - 집합: https://docs.python.org/ko/3/library/stdtypes.html#set-types-set-frozenset\n",
    "   - 불리언: https://docs.python.org/ko/3/library/stdtypes.html#boolean-type-bool\n",
    "   - 시퀀스 타입(리스트, 튜플): https://docs.python.org/ko/3/library/stdtypes.html#sequence-types-list-tuple-range\n",
    "   - 매핑 타입(딕셔너리): https://docs.python.org/ko/3/library/stdtypes.html#mapping-types-dict\n",
    "\n",
    "3. **연산자 관련 문서**\n",
    "   - 수치 연산자: https://docs.python.org/ko/3/library/stdtypes.html#numeric-operations\n",
    "   - 비교 연산자: https://docs.python.org/ko/3/library/stdtypes.html#comparisons\n",
    "   - 복합 대입 연산자: https://docs.python.org/ko/3/reference/simple_stmts.html#augmented-assignment-statements\n",
    "   - 연산자 우선순위: https://docs.python.org/ko/3/reference/expressions.html#operator-precedence\n",
    "\n",
    "4. **형변환 관련 문서**\n",
    "   - 내장 함수: https://docs.python.org/ko/3/library/functions.html\n",
    "   - int(): https://docs.python.org/ko/3/library/functions.html#int\n",
    "   - float(): https://docs.python.org/ko/3/library/functions.html#float\n",
    "   - str(): https://docs.python.org/ko/3/library/functions.html#func-str\n",
    "   - bool(): https://docs.python.org/ko/3/library/functions.html#bool\n",
    "\n",
    "5. **파이썬 코드 스타일 가이드**\n",
    "   - 코드 레이아웃: https://docs.python.org/ko/3/tutorial/controlflow.html#intermezzo-coding-style"
   ]
  },
  {
   "cell_type": "markdown",
   "metadata": {},
   "source": [
    "## 기본 자료형\n",
    "\n",
    "1. **정수형(int)**: 소수점이 없는 숫자\n",
    "2. **실수형(float)**: 소수점이 있는 숫자\n",
    "3. **문자열(str)**: 텍스트 데이터를 표현하는 자료형, 따옴표로 묶음\n",
    "4. **불리언(bool)**: True 또는 False 값을 가지는 논리형\n",
    "\n",
    "## 클래스 자료형 (객체)\n",
    "\n",
    "파이썬은 객체 지향 언어로, 모든 것이 객체입니다. 기본 자료형 외에도 다양한 클래스 자료형이 있습니다:\n",
    "\n",
    "1. **리스트(list)**: 순서가 있는 변경 가능한 자료형, `[]`로 표현\n",
    "   - 예: `my_list = [1, 2, 3, \"hello\"]`\n",
    "\n",
    "2. **튜플(tuple)**: 순서가 있는 변경 불가능한 자료형, `()`로 표현\n",
    "   - 예: `my_tuple = (1, 2, 3, \"hello\")`\n",
    "\n",
    "3. **딕셔너리(dict)**: 키-값 쌍으로 이루어진 자료형, `{}`로 표현\n",
    "   - 예: `my_dict = {\"name\": \"홍길동\", \"age\": 30}`\n",
    "\n",
    "4. **집합(set)**: 중복이 없는 요소들의 모음, `{}`로 표현\n",
    "   - 예: `my_set = {1, 2, 3, 4}`\n",
    "\n",
    "5. **사용자 정의 클래스**: 개발자가 직접 정의한 클래스로 만든 객체\n",
    "   - 예: `class Person:`, `person = Person()`"
   ]
  },
  {
   "cell_type": "markdown",
   "metadata": {},
   "source": [
    "### **타입**\n",
    "\n",
    "#### 타입(Type)\n",
    "- 값이 어떤 종류의 데이터인지, 어떻게 해석되고 처리되어야 하는지를 정의\n",
    "- 타입은 2가지 요소로 이루어짐 \n",
    "    - <span style='color:red'>“값”</span>과 <span style='color:red'>“값에 적용할 수 있는 연산”</span>\n",
    "\n",
    "![image](https://github.com/ragu6963/TIL/assets/32388270/8124c2d4-f2b7-4c29-b11f-b08fb478b5d8)"
   ]
  },
  {
   "cell_type": "code",
   "execution_count": 1,
   "metadata": {},
   "outputs": [
    {
     "name": "stdout",
     "output_type": "stream",
     "text": [
      "======= 기본 자료형 =======\n",
      "정수: 1, 타입: <class 'int'>\n",
      "실수: 2.5, 타입: <class 'float'>\n",
      "문자열: hello, 타입: <class 'str'>\n",
      "불리언: True, 타입: <class 'bool'>\n"
     ]
    }
   ],
   "source": [
    "# 1. 기본 자료형과 기본 연산\n",
    "print(\"======= 기본 자료형 =======\")\n",
    "a = 1       # 정수형(int)\n",
    "b = 2.5     # 실수형(float)\n",
    "c = \"hello\" # 문자열(str)\n",
    "d = True    # 불리언(bool)\n",
    "\n",
    "print(f\"정수: {a}, 타입: {type(a)}\")\n",
    "print(f\"실수: {b}, 타입: {type(b)}\")\n",
    "print(f\"문자열: {c}, 타입: {type(c)}\")\n",
    "print(f\"불리언: {d}, 타입: {type(d)}\")"
   ]
  },
  {
   "cell_type": "markdown",
   "metadata": {},
   "source": [
    "# 파이썬은 모든 기본 자료형들도 CLASS로 표현"
   ]
  },
  {
   "cell_type": "code",
   "execution_count": 2,
   "metadata": {},
   "outputs": [
    {
     "name": "stdout",
     "output_type": "stream",
     "text": [
      "\n",
      "======= 클래스 자료형 =======\n",
      "리스트: [1, 2, 3, 'hello'], 타입: <class 'list'>\n",
      "리스트 첫 번째 요소: 1\n",
      "리스트 값 변경 후: [1, 20, 3, 'hello']\n"
     ]
    }
   ],
   "source": [
    "# 2. 클래스 자료형\n",
    "print(\"\\n======= 클래스 자료형 =======\")\n",
    "# 리스트(list): 순서가 있고 값 변경이 가능한 자료형\n",
    "my_list = [1, 2, 3, \"hello\"]\n",
    "print(f\"리스트: {my_list}, 타입: {type(my_list)}\")\n",
    "# 리스트 요소 접근: 인덱스 사용\n",
    "print(f\"리스트 첫 번째 요소: {my_list[0]}\")\n",
    "# 리스트 값 변경\n",
    "my_list[1] = 20\n",
    "print(f\"리스트 값 변경 후: {my_list}\")"
   ]
  },
  {
   "cell_type": "markdown",
   "metadata": {},
   "source": [
    "## **연산자**\n",
    "\n",
    "파이썬에서는 다양한 연산자를 사용할 수 있습니다:\n",
    "\n",
    "### 산술 연산자\n",
    "- `+`: 덧셈\n",
    "- `-`: 뺄셈\n",
    "- `*`: 곱셈\n",
    "- `/`: 나눗셈 (결과는 항상 float)\n",
    "- `//`: 몫 (정수 나눗셈)\n",
    "- `%`: 나머지\n",
    "- `**`: 거듭제곱\n",
    "\n",
    "### 복합 대입 연산자\n",
    "- `+=`: 더하기 후 할당 (`a += 1`은 `a = a + 1`과 같음)\n",
    "- `-=`: 빼기 후 할당\n",
    "- `*=`: 곱하기 후 할당 (`b *= 2`는 `b = b * 2`와 같음)\n",
    "- `/=`: 나누기 후 할당\n",
    "- `//=`: 몫 연산 후 할당\n",
    "- `%=`: 나머지 연산 후 할당\n",
    "- `**=`: 거듭제곱 후 할당\n",
    "\n",
    "### 문자열 연산\n",
    "\n",
    "1. **문자열 결합**: `+` 연산자로 문자열을 연결\n",
    "   - `\"hello\" + \" \" + \"world\"` → \"hello world\"\n",
    "\n",
    "2. **문자열 반복**: `*` 연산자로 문자열을 반복\n",
    "   - `\"hello\" * 3` → \"hellohellohello\"\n",
    "   - `\"-\" * 10` → \"----------\"\n",
    "\n",
    "### 멤버십 연산자\n",
    "- 특정 값이 시퀀스나 다른 컬렉션에 속하는지 여부를 확인\n",
    "\n",
    "|       기호      \t|                                    내용                                  \t|\n",
    "|:---------------:\t|:------------------------------------------------------------------------:\t|\n",
    "|        in       \t|        왼쪽   피연산자가 오른쪽 피연산자의 시퀀스에 속하는지를 확인      \t|\n",
    "|     not   in    \t|     왼쪽   피연산자가 오른쪽 피연산자의 시퀀스에 속하지 않는지를 확인    \t|\n",
    "\n",
    "\n",
    "   ```\n",
    "   word = 'hello'\n",
    "   numbers = [1, 2, 3, 4, 5]\n",
    "\n",
    "   print('h' in word)  # True\n",
    "   print('z' in word)  # False\n",
    "\n",
    "   print(4 not in numbers)  # False\n",
    "   print(6 not in numbers)  # True\n",
    "   ```\n",
    "\n",
    "\n",
    "   ### 시퀀스형 연산자\n",
    "- `+` 와 `*` 는 시퀀스 간 연산에서 산술 연산자일때와 다른 역할을 가짐\n",
    "\n",
    "|     연산자    \t|          내용        \t|\n",
    "|:-------------:\t|:--------------------:\t|\n",
    "|        +      \t|     결합   연산자    \t|\n",
    "|        *      \t|     반복   연산자    \t|\n",
    "\n",
    "   ```\n",
    "   print('Gildong' + ' Hong') # Gildong Hong\n",
    "   print('hi' * 5) # hihihihihi\n",
    "   print([1, 2] + ['a', 'b'])  # [1, 2, 'a', 'b']\n",
    "   print([1, 2] * 2) # [1, 2, 1, 2]\n",
    "   ```"
   ]
  },
  {
   "cell_type": "code",
   "execution_count": 1,
   "metadata": {},
   "outputs": [
    {
     "name": "stdout",
     "output_type": "stream",
     "text": [
      "\n",
      "======= 산술 연산자 =======\n",
      "10 + 3 = 13\n",
      "10 - 3 = 7\n",
      "10 * 3 = 30\n",
      "10 / 3 = 3.3333333333333335\n",
      "10 // 3 = 3\n",
      "10 % 3 = 1\n",
      "10 ** 3 = 1000\n"
     ]
    }
   ],
   "source": [
    "# 3. 산술 연산자\n",
    "print(\"\\n======= 산술 연산자 =======\")\n",
    "x = 10\n",
    "y = 3\n",
    "print(f\"{x} + {y} = {x + y}\")    # 덧셈\n",
    "print(f\"{x} - {y} = {x - y}\")    # 뺄셈\n",
    "print(f\"{x} * {y} = {x * y}\")    # 곱셈\n",
    "print(f\"{x} / {y} = {x / y}\")    # 나눗셈 (결과는 항상 float)\n",
    "print(f\"{x} // {y} = {x // y}\")  # 몫 (정수 나눗셈)\n",
    "print(f\"{x} % {y} = {x % y}\")    # 나머지\n",
    "print(f\"{x} ** {y} = {x ** y}\")  # 거듭제곱"
   ]
  },
  {
   "cell_type": "code",
   "execution_count": 6,
   "metadata": {},
   "outputs": [
    {
     "name": "stdout",
     "output_type": "stream",
     "text": [
      "\n",
      "======= 복합 대입 연산자 =======\n",
      "초기값 a = 5\n",
      "a += 2 후: 7\n",
      "a -= 1 후: 6\n",
      "a *= 3 후: 18\n",
      "a /= 2 후: 9.0\n",
      "a //= 2 후: 4.0\n",
      "a **= 2 후: 16.0\n"
     ]
    }
   ],
   "source": [
    "# 4. 복합 대입 연산자\n",
    "print(\"\\n======= 복합 대입 연산자 =======\")\n",
    "a = 5\n",
    "print(f\"초기값 a = {a}\")\n",
    "\n",
    "a += 2      # a = a + 2\n",
    "print(f\"a += 2 후: {a}\")\n",
    "\n",
    "a -= 1      # a = a - 1\n",
    "print(f\"a -= 1 후: {a}\")\n",
    "\n",
    "a *= 3      # a = a * 3\n",
    "print(f\"a *= 3 후: {a}\")\n",
    "\n",
    "a /= 2      # a = a / 2\n",
    "print(f\"a /= 2 후: {a}\")\n",
    "\n",
    "a //= 2     # a = a // 2\n",
    "print(f\"a //= 2 후: {a}\")\n",
    "\n",
    "a **= 2     # a = a ** 2\n",
    "print(f\"a **= 2 후: {a}\")"
   ]
  },
  {
   "cell_type": "code",
   "execution_count": 34,
   "metadata": {},
   "outputs": [
    {
     "name": "stdout",
     "output_type": "stream",
     "text": [
      "\n",
      "======= 멤버십 연산자 =======\n",
      "문자열: Python Programming\n",
      "'Java'가 문자열에 있는가? False\n",
      "'python'이 문자열에 없는가? True\n",
      "\n",
      "리스트: ['사과', '바나나', '딸기', '포도']\n",
      "'딸기'가 리스트에 있는가? True\n",
      "'수박'이 리스트에 없는가? True\n",
      "\n",
      "세트: {'녹색', '빨강', '노랑', '파랑'}\n",
      "'녹색'이 세트에 있는가? True\n",
      "'보라'가 세트에 없는가? True\n",
      "\n",
      "딕셔너리: {'이름': '홍길동', '나이': 30, '직업': '프로그래머'}\n",
      "'이름'이 딕셔너리의 키에 있는가? True\n",
      "'홍길동'이 딕셔너리의 키에 있는가? False\n",
      "'홍길동'이 딕셔너리의 값에 있는가? True\n"
     ]
    }
   ],
   "source": [
    "# 5. 멤버십 연산자\n",
    "print(\"\\n======= 멤버십 연산자 =======\")\n",
    "\n",
    "# 문자열에서의 멤버십 검사\n",
    "text = \"Python Programming\"\n",
    "print(f\"문자열: {text}\")\n",
    "print(f\"'Java'가 문자열에 있는가? {'Java' in text}\")\n",
    "print(f\"'python'이 문자열에 없는가? {'python' not in text}\") \n",
    "\n",
    "# 리스트에서의 멤버십 검사\n",
    "fruits = [\"사과\", \"바나나\", \"딸기\", \"포도\"]\n",
    "print(f\"\\n리스트: {fruits}\")\n",
    "print(f\"'딸기'가 리스트에 있는가? {'딸기' in fruits}\")\n",
    "print(f\"'수박'이 리스트에 없는가? {'수박' not in fruits}\")\n",
    "\n",
    "# 4. 셋에서의 멤버십 검사 (매우 효율적)\n",
    "colors = {\"빨강\", \"파랑\", \"녹색\", \"노랑\"}\n",
    "print(f\"\\n세트: {colors}\")\n",
    "print(f\"'녹색'이 세트에 있는가? {'녹색' in colors}\")\n",
    "print(f\"'보라'가 세트에 없는가? {'보라' not in colors}\")\n",
    "\n",
    "# 5. 딕셔너리에서의 멤버십 검사 (키에 대해서만 검사)\n",
    "person = {\"이름\": \"홍길동\", \"나이\": 30, \"직업\": \"프로그래머\"}\n",
    "print(f\"\\n딕셔너리: {person}\")\n",
    "print(f\"'이름'이 딕셔너리의 키에 있는가? {'이름' in person}\")\n",
    "print(f\"'홍길동'이 딕셔너리의 키에 있는가? {'홍길동' in person}\")  # 값이 아닌 키를 검사\n",
    "print(f\"'홍길동'이 딕셔너리의 값에 있는가? {'홍길동' in person.values()}\")"
   ]
  },
  {
   "cell_type": "code",
   "execution_count": 32,
   "metadata": {},
   "outputs": [
    {
     "name": "stdout",
     "output_type": "stream",
     "text": [
      "\n",
      "======= 문자열 연산 =======\n",
      "문자열 결합: Hello + ' ' + World = Hello World\n",
      "문자열 반복: Hello * 3 = HelloHelloHello\n",
      "\n",
      "======= 리스트 연산 =======\n",
      "리스트 결합: [1, 2, 3] + [4, 5, 6] = [1, 2, 3, 4, 5, 6]\n",
      "리스트 반복: [1, 2, 3] * 3 = [1, 2, 3, 1, 2, 3, 1, 2, 3]\n"
     ]
    }
   ],
   "source": [
    "# 6. 시퀀스형 연산자자\n",
    "print(\"\\n======= 문자열 연산 =======\")\n",
    "str1 = \"Hello\"\n",
    "str2 = \"World\"\n",
    "\n",
    "# 문자열 결합 (+)\n",
    "combined = str1 + \" \" + str2\n",
    "print(f\"문자열 결합: {str1} + ' ' + {str2} = {combined}\")\n",
    "\n",
    "# 문자열 반복 (*)\n",
    "repeated = str1 * 3\n",
    "print(f\"문자열 반복: {str1} * 3 = {repeated}\")\n",
    "\n",
    "# 리스트에 대한 시퀀스형 연산자\n",
    "print(\"\\n======= 리스트 연산 =======\")\n",
    "list1 = [1, 2, 3]\n",
    "list2 = [4, 5, 6]\n",
    "\n",
    "# 리스트 결합 (+)\n",
    "combined_list = list1 + list2\n",
    "print(f\"리스트 결합: {list1} + {list2} = {combined_list}\")\n",
    "\n",
    "# 리스트 반복 (*)\n",
    "repeated_list = list1 * 3\n",
    "print(f\"리스트 반복: {list1} * 3 = {repeated_list}\")\n"
   ]
  },
  {
   "cell_type": "markdown",
   "metadata": {},
   "source": [
    "## **데이터 형변환**\n",
    "\n",
    "파이썬에서는 다양한 형변환 함수를 제공합니다:\n",
    "\n",
    "### **기본 자료형 간 변환**\n",
    "   - `int()`, `float()`, `str()`, `bool()`\n",
    "\n",
    "### **클래스 자료형 간 변환**\n",
    "   - `list()`: 다른 자료형을 리스트로 변환\n",
    "   - `tuple()`: 다른 자료형을 튜플로 변환\n",
    "   - `dict()`: 키-값 쌍을 딕셔너리로 변환\n",
    "   - `set()`: 다른 자료형을 집합으로 변환\n",
    "\n",
    "#### **암시적 형변환(Implicit Type conversion) : 파이썬이 자동으로 형변환을 하는 것**\n",
    "\n",
    "##### 암시적 형변환 예시\n",
    "- Boolean과 Numeric Type에서만 가능\n",
    "\n",
    "   ```\n",
    "   print(3 + 5.0)  # 8.0\n",
    "   print(True + 3)  # 4\n",
    "   print(True + False)  # 1\n",
    "   ```\n",
    "\n",
    "#### **명시적 형변환(Explicit Type conversion) : 개발자가 직접 형변환을 하는 것 암시적 형변환이 아닌 경우를 모두 포함**\n",
    "\n",
    "##### 명시적 형변환 예시\n",
    "\n",
    "- str -> integer : 형식에 맞는 숫자만 가능\n",
    "- integer -> str : 모두 가능\n",
    "\n",
    "   ```\n",
    "   print(int('1'))  # 1\n",
    "   print(str(1) + '등')  # 1등\n",
    "   print(float('3.5'))  # 3.5\n",
    "   print(int(3.5))  # 3\n",
    "   print(int('3.5')) # ValueError: invalid literal for int() with base 10: '3.5'\n",
    "   ```"
   ]
  },
  {
   "cell_type": "code",
   "execution_count": 31,
   "metadata": {},
   "outputs": [
    {
     "name": "stdout",
     "output_type": "stream",
     "text": [
      "\n",
      "======= 데이터 형변환 =======\n",
      "정수 → 실수: int(10) → float = 10.0, 타입: <class 'float'>\n",
      "실수 → 정수: float(3.14) → int = 3, 타입: <class 'int'>\n",
      "실수 → 문자열: float(10.33) → str = '10.33', 타입: <class 'str'>\n",
      "정수 → 문자열: int(7) → str = '7', 타입: <class 'str'>\n",
      "문자열 → 정수: '10' → int = 10, 타입: <class 'int'>\n",
      "문자열 → 실수: '3.14' → float = 3.14, 타입: <class 'float'>\n"
     ]
    }
   ],
   "source": [
    "# 6. 데이터 형변환\n",
    "print(\"\\n======= 데이터 형변환 =======\")\n",
    "# 정수 → 실수\n",
    "a = 10\n",
    "b = float(a)\n",
    "print(f\"정수 → 실수: int({a}) → float = {b}, 타입: {type(b)}\")\n",
    "\n",
    "# 실수 → 정수 (소수점 이하 버림)\n",
    "c = 3.14\n",
    "d = int(c)\n",
    "print(f\"실수 → 정수: float({c}) → int = {d}, 타입: {type(d)}\")\n",
    "\n",
    "# 숫자 → 문자열\n",
    "e = str(10.33)\n",
    "f = str(7)\n",
    "print(f\"실수 → 문자열: float(10.33) → str = '{e}', 타입: {type(e)}\")\n",
    "print(f\"정수 → 문자열: int(7) → str = '{f}', 타입: {type(f)}\")\n",
    "\n",
    "# 문자열 → 숫자\n",
    "g = int(\"10\")\n",
    "h = float(\"3.14\")\n",
    "print(f\"문자열 → 정수: '10' → int = {g}, 타입: {type(g)}\")\n",
    "print(f\"문자열 → 실수: '3.14' → float = {h}, 타입: {type(h)}\")\n"
   ]
  },
  {
   "cell_type": "markdown",
   "metadata": {},
   "source": [
    "## 파이썬에서의 내림, 반올림, 올림 다양한 방법 정리\n",
    "int는 소수점 버림"
   ]
  },
  {
   "cell_type": "markdown",
   "metadata": {},
   "source": [
    "### 1. 내림 (Floor)"
   ]
  },
  {
   "cell_type": "code",
   "execution_count": 16,
   "metadata": {},
   "outputs": [
    {
     "name": "stdout",
     "output_type": "stream",
     "text": [
      "\n",
      "======= 내림(Floor) =======\n",
      "int() 함수 사용: 3.7 → 3\n",
      "// 연산자 사용: 3.7 → 3.0\n",
      "math.floor() 함수 사용: 3.7 → 3\n",
      "\n",
      "음수 예제: -3.7\n",
      "int() 함수 사용: -3.7 → -3\n",
      "// 연산자 사용: -3.7 → -4.0\n",
      "math.floor() 함수 사용: -3.7 → -4\n"
     ]
    }
   ],
   "source": [
    "print(\"\\n======= 내림(Floor) =======\")\n",
    "num = 3.7\n",
    "\n",
    "# 1) 정수형 변환으로 내림(양수일 때만 적용)\n",
    "floor_num1 = int(num)\n",
    "print(f\"int() 함수 사용: {num} → {floor_num1}\")\n",
    "\n",
    "# 2) 정수 나눗셈 연산자 활용\n",
    "floor_num2 = num // 1\n",
    "print(f\"// 연산자 사용: {num} → {floor_num2}\")\n",
    "\n",
    "# 3) math 모듈의 floor() 함수 활용\n",
    "import math\n",
    "floor_num3 = math.floor(num)\n",
    "print(f\"math.floor() 함수 사용: {num} → {floor_num3}\")\n",
    "\n",
    "# 음수에서의 내림 비교\n",
    "negative = -3.7\n",
    "print(f\"\\n음수 예제: {negative}\")\n",
    "print(f\"int() 함수 사용: {negative} → {int(negative)}\")  # -3 (소수점 버림)\n",
    "print(f\"// 연산자 사용: {negative} → {negative // 1}\")    # -4 (내림)\n",
    "print(f\"math.floor() 함수 사용: {negative} → {math.floor(negative)}\")  # -4 (내림)"
   ]
  },
  {
   "cell_type": "markdown",
   "metadata": {},
   "source": [
    "### 2. 반올림 (Round)"
   ]
  },
  {
   "cell_type": "code",
   "execution_count": null,
   "metadata": {},
   "outputs": [
    {
     "name": "stdout",
     "output_type": "stream",
     "text": [
      "\n",
      "======= 반올림(Round) =======\n",
      "round() 함수 사용: 3.5 → 4\n",
      "소수점 지정: 3.141592 → 3.14\n",
      "10의 자리 반올림: 1235 → 1240\n",
      "100의 자리 반올림: 1235 → 1200\n",
      "\n",
      "파이썬의 반올림 특이점 (짝수 쪽으로 반올림):\n",
      "round(2.5) = 2\n",
      "round(3.5) = 4\n"
     ]
    }
   ],
   "source": [
    "print(\"\\n======= 반올림(Round) =======\")\n",
    "num = 3.5\n",
    "\n",
    "# 1) round() 함수 - 기본 사용\n",
    "round_num1 = round(num)\n",
    "print(f\"round() 함수 사용: {num} → {round_num1}\")\n",
    "\n",
    "# 2) 소수점 자릿수 지정\n",
    "num = 3.141592\n",
    "round_num2 = round(num, 2)  # 소수점 둘째 자리까지 표시\n",
    "print(f\"소수점 지정: {num} → {round_num2}\")\n",
    "\n",
    "# 3) 10, 100 단위 반올림 (음수 자릿수)\n",
    "num = 1235\n",
    "round_num3 = round(num, -1)  # 10의 자리에서 반올림\n",
    "round_num4 = round(num, -2)  # 100의 자리에서 반올림\n",
    "print(f\"10의 자리 반올림: {num} → {round_num3}\")\n",
    "print(f\"100의 자리 반올림: {num} → {round_num4}\")\n",
    "\n",
    "# 파이썬 반올림의 특이점: 5로 끝나는 경우 짝수 쪽으로 반올림 (Banker's Rounding)\n",
    "# Banker's Rounding이 사용되는 주요 이유는 통계적 편향을 줄이기 위해서입니다.\n",
    "print(\"\\n파이썬의 반올림 특이점 (짝수 쪽으로 반올림):\")\n",
    "print(f\"round(2.5) = {round(2.5)}\")  # 2로 반올림 (짝수)\n",
    "print(f\"round(3.5) = {round(3.5)}\")  # 4로 반올림 (짝수)"
   ]
  },
  {
   "cell_type": "code",
   "execution_count": null,
   "metadata": {},
   "outputs": [],
   "source": []
  },
  {
   "cell_type": "markdown",
   "metadata": {},
   "source": [
    "### 3. 올림 (Ceiling)"
   ]
  },
  {
   "cell_type": "code",
   "execution_count": null,
   "metadata": {},
   "outputs": [
    {
     "name": "stdout",
     "output_type": "stream",
     "text": [
      "\n",
      "======= 올림(Ceiling) =======\n",
      "math.ceil() 함수 사용: 3.2 → 4\n",
      "근사치 더하기: 3.2 → 4\n",
      "불 표현식 활용: 3.2 → 4\n",
      "음수 나눗셈 트릭 활용: 3.2 → 4.0\n",
      "음수 나눗셈 트릭 활용: -3.7 → -3.0\n"
     ]
    }
   ],
   "source": [
    "print(\"\\n======= 올림(Ceiling) =======\")\n",
    "num = 3.2\n",
    "\n",
    "# 1) math 모듈의 ceil() 함수 (가장 권장되는 방법)\n",
    "import math\n",
    "ceil_num1 = math.ceil(num)\n",
    "print(f\"math.ceil() 함수 사용: {num} → {ceil_num1}\")\n",
    "\n",
    "# 2) 1에 가까운 임의의 큰 값을 더한 후 int() 사용 (비권장)\n",
    "ceil_num2 = int(num + 0.99999999)\n",
    "print(f\"근사치 더하기: {num} → {ceil_num2}\")\n",
    "\n",
    "# 3) int()와 bool 표현식 활용\n",
    "ceil_num3 = int(num) + (num != int(num))\n",
    "print(f\"불 표현식 활용: {num} → {ceil_num3}\")\n",
    "\n",
    "# 4) 음수 나눗셈 트릭 (정수만 해당)\n",
    "ceil_num4 = (num//1) # 3\n",
    "\n",
    "ceil_num4 = -(-num//1)\n",
    "print(f\"음수 나눗셈 트릭 활용: {num} → {ceil_num4}\")\n",
    "\n",
    "num = -3.7\n",
    "ceil_num5 = -(-num//1)\n",
    "print(f\"음수 나눗셈 트릭 활용: {num} → {ceil_num5}\")"
   ]
  },
  {
   "cell_type": "markdown",
   "metadata": {},
   "source": [
    "## 참고자료"
   ]
  },
  {
   "cell_type": "markdown",
   "metadata": {},
   "source": [
    "## 참고 내용: 변수와 할당문\n",
    "\n",
    "#### 변수(variable) : 값을 <span style='color:red'>참조</span>하는 이름\n",
    "\n",
    "#### 변수명 규칙\n",
    "- 영문 알파벳, 언더스코어(_), 숫자로 구성\n",
    "- 숫자로 시작할 수 없음\n",
    "- 대소문자를 구분\n",
    "- 아래 키워드는 파이썬의 내부 예약어로 사용할 수 없음\n",
    "\n",
    "    ```python\n",
    "    ['False', 'None', 'True', '__peg_parser__', 'and', 'as', 'assert', \n",
    "    'async', 'await', 'break', 'class', 'continue', 'def', 'del', \n",
    "    'elif', 'else', 'except', 'finally', 'for', 'from', 'global', \n",
    "    'if', 'import', 'in', 'is', 'lambda', 'nonlocal', 'not', \n",
    "    'or', 'pass', 'raise', 'return', 'try', 'while', 'with', 'yield']\n",
    "    ```\n",
    "\n"
   ]
  },
  {
   "cell_type": "code",
   "execution_count": null,
   "metadata": {},
   "outputs": [],
   "source": [
    "내장함수 이름으로 변수명을 지정하면 그 내장함수 사용할 수 없음"
   ]
  },
  {
   "cell_type": "markdown",
   "metadata": {},
   "source": [
    "#### 할당문\n",
    "```python\n",
    "degrees = 36.5\n",
    "```\n",
    "“변수 degrees에 값 36.5를 <span style='color:red'>할당</span>했다”\n",
    "\n",
    "![image](https://github.com/ragu6963/TIL/assets/32388270/21737370-e926-4b74-9055-436ed9e26270)\n",
    "1. 할당 연산자(=) 오른쪽에 있는 표현식을 평가해서 값(메모리 주소)을 생성\n",
    "2. 값의 메모리 주소를 ‘=‘ 왼쪽에 있는 변수에 저장\n",
    "- 존재하지 않는 변수라면\n",
    "    - 새 변수를 생성\n",
    "- 기존에 존재했던 변수라면\n",
    "    - 기존 변수를 재사용해서 변수에 들어 있는 메모리 주소를 변경"
   ]
  },
  {
   "cell_type": "markdown",
   "metadata": {},
   "source": [
    "#### 변수, 값 그리고 메모리\n",
    "- 거리에 집 주소가 있듯이 메모리의 모든 위치에는 그 위치를 고유하게 식별하는 메모리 주소가 존재\n",
    "\n",
    "![image](https://github.com/ragu6963/TIL/assets/32388270/52e0c752-978c-4b5c-b7a2-5cc88b4b3494)\n",
    "\n",
    "- 객체 (Object)\n",
    "    - 타입을 갖는 메모리 주소 내 값\n",
    "    - “값이 들어있는 상자”\n",
    "    \n",
    "![image](https://github.com/ragu6963/TIL/assets/32388270/a0d8f9be-d895-4d93-b8ee-bbc9338ba1c5)\n",
    "\n",
    "\n",
    "- 변수는 그 변수가 참조하는 객체의 메모리 주소를 가짐\n",
    "- 변수 degrees는 값 36.5를 참조\n",
    "\n",
    "![image](https://github.com/ragu6963/TIL/assets/32388270/b5dfec1e-9f57-4dba-bf47-d333c988a1ab)"
   ]
  },
  {
   "cell_type": "markdown",
   "metadata": {},
   "source": [
    "## 참고 내용 : 파이썬의 주석(Comments) \n",
    "주석은 프로그램 코드 내에 작성하는 설명문으로, 코드의 실행에는 영향을 주지 않습니다. 주석은 프로그램의 가독성을 높이고, 코드의 목적이나 동작 방식을 설명하는 데 매우 중요합니다.\n",
    "\n",
    "#### 주석 활용\n",
    "- 코드의 특정 부분을 설명하거나 임시로 코드를 비활성화할 때 \n",
    "- 코드를 이해하거나 문서화하기 위해 \n",
    "- 다른 개발자나 자신에게 코드의 의도나 동작을 설명하는 데 도움\n"
   ]
  },
  {
   "cell_type": "code",
   "execution_count": 12,
   "metadata": {},
   "outputs": [
    {
     "name": "stdout",
     "output_type": "stream",
     "text": [
      "\n",
      "======= 주석 예시 =======\n",
      "주석은 코드에 설명을 추가할 때 사용합니다.\n"
     ]
    }
   ],
   "source": [
    "# 참고: 주석 \n",
    "print(\"\\n======= 주석 예시 =======\")\n",
    "\n",
    "# 이것은 한 줄 주석입니다.\n",
    "\n",
    "'''\n",
    "이것은 여러 줄 주석입니다.\n",
    "파이썬에서는 작은따옴표 세 개나\n",
    "큰따옴표 세 개로 여러 줄 주석을 만들 수 있습니다.\n",
    "'''\n",
    "\n",
    "print(\"주석은 코드에 설명을 추가할 때 사용합니다.\")"
   ]
  },
  {
   "cell_type": "markdown",
   "metadata": {},
   "source": [
    "## 읽기 좋은 코드\n",
    "### Style Guide\n",
    "코드의 일관성과 가독성을 향상시키기 위한 규칙과 권장 사항들의 모음\n",
    "\n",
    "#### 파이썬 Style Guide\n",
    "- 변수명은 무엇을 위한 변수인지 직관적인 이름을 가져야 함\n",
    "- 공백(spaces) 4칸을 사용하여 코드 블록을 들여쓰기\n",
    "- 한 줄의 길이는 79자로 제한하며, 길어질 경우 줄 바꿈을 사용\n",
    "- 문자와 밑줄(_)을 사용하여 함수, 변수, 속성의 이름을 작성\n",
    "- 함수 정의나 클래스 정의 등의 블록 사이에는 빈 줄을 추가\n",
    "\n",
    "> 파이썬 스타일 가이드 PEP 8 참고 문서 : https://peps.python.org/pep-0008/"
   ]
  }
 ],
 "metadata": {
  "kernelspec": {
   "display_name": "Python 3",
   "language": "python",
   "name": "python3"
  },
  "language_info": {
   "codemirror_mode": {
    "name": "ipython",
    "version": 3
   },
   "file_extension": ".py",
   "mimetype": "text/x-python",
   "name": "python",
   "nbconvert_exporter": "python",
   "pygments_lexer": "ipython3",
   "version": "3.12.1"
  }
 },
 "nbformat": 4,
 "nbformat_minor": 2
}
