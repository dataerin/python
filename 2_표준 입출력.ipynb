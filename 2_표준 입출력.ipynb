{
 "cells": [
  {
   "cell_type": "markdown",
   "metadata": {},
   "source": [
    " # 파이썬 기초 문법: 표준 입출력과 문자열 포맷팅\n",
    "\n",
    " ### 파이썬 공식 문서 관련 링크\n",
    "\n",
    "1. **파이썬 공식 문서 (메인)**\n",
    "   - https://docs.python.org/ko/3/\n",
    "\n",
    "2. **입출력 관련 문서**\n",
    "   - 입출력: https://docs.python.org/ko/3/tutorial/inputoutput.html\n",
    "   - print() 함수: https://docs.python.org/ko/3/library/functions.html#print\n",
    "   - input() 함수: https://docs.python.org/ko/3/library/functions.html#input\n",
    "\n",
    "3. **문자열 포맷팅 관련 문서**\n",
    "   - 문자열 포맷팅: https://docs.python.org/ko/3/library/string.html#formatstrings\n",
    "   - f-문자열: https://docs.python.org/ko/3/reference/lexical_analysis.html#f-strings\n",
    "   - 포맷 명세 미니 언어: https://docs.python.org/ko/3/library/string.html#format-specification-mini-language"
   ]
  },
  {
   "cell_type": "markdown",
   "metadata": {},
   "source": [
    " ## 표준 입출력\n",
    "\n",
    "\n",
    "\n",
    " 1. **표준 출력(Standard Output)**: `print()` 함수를 사용하여 콘솔에 데이터를 출력\n",
    "\n",
    " 2. **표준 입력(Standard Input)**: `input()` 함수를 사용하여 사용자로부터 데이터를 입력받음\n",
    "\n",
    "\n",
    "\n",
    " ## 문자열 포맷팅\n",
    "\n",
    "\n",
    "\n",
    " 파이썬에서는 문자열에 변수를 삽입하거나 형식을 지정하는 여러 방법이 있습니다:\n",
    "\n",
    "\n",
    "\n",
    " 1. **%-포맷팅**: 예전부터 사용된 방식\n",
    "\n",
    "    - 예: `\"이름: %s, 나이: %d\" % (name, age)`\n",
    "\n",
    "\n",
    "\n",
    " 2. **format() 메서드**: Python 3에서 도입된 개선된 포맷팅\n",
    "\n",
    "    - 예: `\"이름: {}, 나이: {}\".format(name, age)`\n",
    "\n",
    "    - 인덱스 지정: `\"이름: {0}, 나이: {1}\".format(name, age)`\n",
    "\n",
    "\n",
    "\n",
    " 3. **f-문자열(f-strings)**: Python 3.6 이상에서 사용 가능한 가장 직관적인 포맷팅\n",
    "\n",
    "    - 예: `f\"이름: {name}, 나이: {age}\"`\n",
    "\n",
    "    - 표현식 포함 가능: `f\"내년 나이: {age + 1}\"`"
   ]
  },
  {
   "cell_type": "code",
   "execution_count": null,
   "metadata": {},
   "outputs": [],
   "source": [
    "# 1. 표준 출력 (print 함수)\n",
    "print(\"======= 표준 출력 기본 =======\")\n",
    "print(\"Hello\", \"World\")  # 콤마로 구분된 값은 공백으로 연결됨 # sep로 출력될 문자의 구분기호 정의\n",
    "print(\"Python은 재미있습니다\")\n",
    "print(\"큰따옴표 안에 '작은따옴표'를 포함할 수 있습니다\")\n",
    "print('작은따옴표 안에 \"큰따옴표\"를 포함할 수 있습니다')"
   ]
  },
  {
   "cell_type": "code",
   "execution_count": null,
   "metadata": {},
   "outputs": [],
   "source": [
    "# 여러 줄 문자열\n",
    "print(\"\\n======= 여러 줄 문자열 =======\")\n",
    "multi_line1 = '''이것은\n",
    "여러 줄\n",
    "문자열입니다.'''\n",
    "print(multi_line1)\n",
    "\n",
    "multi_line2 = \"\"\"이것도\n",
    "여러 줄\n",
    "문자열입니다.\"\"\"\n",
    "print(multi_line2)"
   ]
  },
  {
   "cell_type": "code",
   "execution_count": null,
   "metadata": {},
   "outputs": [],
   "source": [
    "# 긴 문자열 나누기\n",
    "long_string = \"이것은 \" + \\\n",
    "              \"매우 긴 문자열을 \" + \\\n",
    "              \"여러 줄로 나눈 것입니다.\"\n",
    "print(long_string)"
   ]
  },
  {
   "cell_type": "code",
   "execution_count": null,
   "metadata": {},
   "outputs": [],
   "source": [
    "# print 함수 옵션\n",
    "print(\"\\n======= print 함수 옵션 =======\")\n",
    "print(\"기본 출력 후 자동 개행\")\n",
    "print(\"end 옵션 사용\", end=\"\") 함수 내부에 쓰이는 end 등을 파라미터라고 함\n",
    "print(\" - 개행 없이 이어서 출력\")\n",
    "print(\"구분자 지정:\", \"apple\", \"banana\", \"orange\", sep=\" -> \")"
   ]
  },
  {
   "cell_type": "code",
   "execution_count": null,
   "metadata": {},
   "outputs": [],
   "source": [
    "# 2. 문자열 포맷팅 - %-포맷\n",
    "\n",
    "## 참고 내용: 다양한 포맷팅 지시자\n",
    "### %-포맷팅 지시자\n",
    "# - `%d`: 정수\n",
    "# - `%f`: 실수\n",
    "# - `%c`: 문자 1개\n",
    "# - `%s`: 문자열\n",
    "# - `%o`: 8진수\n",
    "# - `%x`: 16진수\n",
    "# - `%%`: % 문자 자체\n",
    "\n",
    "print(\"\\n======= %-포맷팅 =======\")\n",
    "name = \"홍길동\"\n",
    "age = 30\n",
    "height = 175.5\n",
    "\n",
    "# 기본 %-포맷\n",
    "print(\"이름: %s, 나이: %d, 키: %.1f\" % (name, age, height))\n",
    "\n",
    "# 자릿수 지정\n",
    "print(\"오른쪽 정렬: %10s, %5d, %7.2f\" % (name, age, height))\n",
    "print(\"왼쪽 정렬: %-10s, %-5d, %-7.2f\" % (name, age, height))\n"
   ]
  },
  {
   "cell_type": "code",
   "execution_count": null,
   "metadata": {},
   "outputs": [],
   "source": [
    "# 3. 문자열 포맷팅 - format() 메서드\n",
    "print(\"\\n======= format() 메서드 =======\")\n",
    "name = \"짱구\"\n",
    "age = 10\n",
    "height = 100.9561\n",
    "\n",
    "# 기본 format() 사용\n",
    "print(\"이름: {}, 나이: {}, 키: {}\".format(name, age, height))\n",
    "\n",
    "# 인덱스 지정\n",
    "print(\"이름: {0}, 나이: {1}, 키: {2}\".format(name, age, height))\n",
    "print(\"순서 변경: {1}, {0}, {2}\".format(name, age, height))\n",
    "print(\"반복 사용: {0}님, {0}님, {0}님의 나이는 {1}세입니다.\".format(name, age))\n",
    "\n",
    "# 이름 지정\n",
    "print(\"이름 지정: {n}, {a}, {h}\".format(n=name, a=age, h=height))\n",
    "\n",
    "# 정렬 및 자릿수 지정\n",
    "print(\"정렬 및 자릿수: {0:>10}, {1:>5}, {2:>7.2f}\".format(name, age, height))\n",
    "print(\"정렬 및 자릿수: {0:<10}, {1:<5}, {2:<7.2f}\".format(name, age, height))\n",
    "print(\"가운데 정렬: {0:^10}\".format(name))\n",
    "\n",
    "# 채움 문자 지정\n",
    "print(\"채움 문자: {0:*>10}, {1:0>5}\".format(name, age))\n"
   ]
  },
  {
   "cell_type": "markdown",
   "metadata": {},
   "source": [
    "### 포맷 지정자\n",
    "- `:<`: 왼쪽 정렬\n",
    "- `:>`: 오른쪽 정렬\n",
    "- `:^`: 가운데 정렬\n",
    "- `:숫자`: 문자 폭 지정\n",
    "- `:.숫자f`: 소수점 이하 자릿수 지정\n",
    "- `:,`: 천단위 구분자 삽입\n",
    "- `:%`: 퍼센트 형식으로 표시"
   ]
  },
  {
   "cell_type": "code",
   "execution_count": null,
   "metadata": {},
   "outputs": [],
   "source": [
    "# 4. 문자열 포맷팅 - f-문자열(f-strings)\n",
    "print(\"\\n======= f-문자열(f-strings) =======\")\n",
    "name = \"피카츄\"\n",
    "age = 5\n",
    "height = 70.234\n",
    "\n",
    "# 기본 f-문자열\n",
    "print(f\"이름: {name}, 나이: {age}, 키: {height}\")\n",
    "\n",
    "# 표현식 사용\n",
    "print(f\"내년 나이: {age + 1}, 키(인치): {height / 2.54:.2f}\")\n",
    "\n",
    "# 정렬 및 자릿수 지정\n",
    "print(f\"정렬 및 자릿수: {name:>10}, {age:>5}, {height:>7.2f}\")\n",
    "print(f\"정렬 및 자릿수: {name:<10}, {age:<5}, {height:<7.2f}\")\n",
    "print(f\"가운데 정렬: {name:^10}\")\n",
    "\n",
    "# 채움 문자 지정\n",
    "print(f\"채움 문자: {name:*>10}, {age:0>5}\")\n",
    "\n",
    "# 천단위 구분기호\n",
    "large_number = 1000000\n",
    "print(f\"천단위 구분: {large_number:,}\")\n",
    "\n",
    "# 퍼센트 표시\n",
    "rate = 0.25\n",
    "print(f\"비율: {rate:.2%}\")  # 0.25 -> 25.00%\n",
    "\n",
    "num = 12345.6789\n",
    "print(f\"지수 표기법: {num:.2e}\")\n",
    "print(f\"2진수: {int(num):#b}\")\n",
    "print(f\"8진수: {int(num):#o}\")\n",
    "print(f\"16진수: {int(num):#x}\")\n"
   ]
  },
  {
   "cell_type": "code",
   "execution_count": null,
   "metadata": {},
   "outputs": [],
   "source": [
    "# 5. 표준 입력 (input 함수)\n",
    "print(\"\\n======= 표준 입력 =======\")\n",
    "# 주의: 이 코드는 대화형 환경에서만 실행됩니다\n",
    "\n",
    "# 기본 입력\n",
    "user_input = input(\"아무 문자열이나 입력하세요: \")\n",
    "print(f\"사용자 입력: {user_input}\")"
   ]
  },
  {
   "cell_type": "code",
   "execution_count": null,
   "metadata": {},
   "outputs": [],
   "source": [
    "# 숫자 입력 - 형변환 필요\n",
    "number = int(input(\"정수를 입력하세요: \"))\n",
    "print(f\"{number} + 10: {number + 10}\")"
   ]
  },
  {
   "cell_type": "code",
   "execution_count": null,
   "metadata": {},
   "outputs": [],
   "source": [
    "float_number = float(input(\"실수를 입력하세요: \"))\n",
    "print(f\"{float_number} × 2: {float_number * 2:.2f}\")"
   ]
  },
  {
   "cell_type": "markdown",
   "metadata": {},
   "source": [
    "# 파이썬 표준 입출력 포맷팅 실습 문제\n",
    "\n",
    "## 문제 1: 자기소개 카드 만들기\n",
    "사용자의 이름, 나이, 취미를 입력받아 정해진 형식의 자기소개 카드를 출력하는 프로그램을 작성하세요.\n",
    "\n",
    "**요구사항:**\n",
    "- 이름은 10칸 너비의 오른쪽 정렬로 출력합니다.\n",
    "- 나이는 3칸 너비의 왼쪽 정렬로 출력합니다.\n",
    "- 취미는 그대로 출력합니다.\n",
    "\n",
    "**예시시 실행 결과:**\n",
    "```\n",
    "이름을 입력하세요: 홍길동\n",
    "나이를 입력하세요: 25\n",
    "취미를 입력하세요: 독서\n",
    "┌─────────────────────────┐\n",
    "│      자기소개 카드       │\n",
    "├─────────────────────────┤\n",
    "│ 이름 :       홍길동      │\n",
    "│ 나이 : 25                │\n",
    "│ 취미 : 독서              │\n",
    "└─────────────────────────┘\n",
    "```"
   ]
  },
  {
   "cell_type": "markdown",
   "metadata": {},
   "source": [
    "\n",
    "## 문제 2: 시간 변환기\n",
    "사용자로부터 초(seconds)를 입력받아 시, 분, 초로 변환하는 프로그램을 작성하세요.\n",
    "\n",
    "**요구사항:**\n",
    "- 입력받은 초는 정수형으로 변환합니다.\n",
    "- 시, 분, 초는 각각 2자리 숫자로 표시하고, 빈자리는 0으로 채웁니다.\n",
    "\n",
    "**예시 실행 결과:**\n",
    "```\n",
    "초를 입력하세요: 3661\n",
    "3,661초는 01:01:01 (시:분:초) 입니다.\n",
    "```"
   ]
  },
  {
   "cell_type": "markdown",
   "metadata": {},
   "source": [
    "\n",
    "## 문제 3: BMI 계산기\n",
    "사용자로부터 키(cm)와 몸무게(kg)를 입력받아 BMI(체질량지수)를 계산하는 프로그램을 작성하세요.\n",
    "\n",
    "**요구사항:**\n",
    "- BMI = 몸무게(kg) / (키(m) × 키(m)) 공식을 사용합니다.\n",
    "- BMI 결과는 소수점 둘째 자리까지 표시합니다.\n",
    "- 입력받은 키는 미터(m) 단위로 변환해야 합니다.\n",
    "\n",
    "**예시시 실행 결과:**\n",
    "```\n",
    "키를 입력하세요(cm): 170\n",
    "몸무게를 입력하세요(kg): 65\n",
    "========== BMI 결과 ==========\n",
    "키: 170.00 cm (1.70 m)\n",
    "몸무게: 65.00 kg\n",
    "당신의 BMI: 22.49\n",
    "```"
   ]
  },
  {
   "cell_type": "markdown",
   "metadata": {},
   "source": [
    "\n",
    "## 문제 4: 온도 변환기\n",
    "사용자로부터 섭씨 온도를 입력받아 화씨 온도로 변환하는 프로그램을 작성하세요.\n",
    "\n",
    "**요구사항:**\n",
    "- 섭씨 온도는 실수형으로 입력받습니다.\n",
    "- 변환 공식: 화씨 = 섭씨 × 9/5 + 32\n",
    "- 섭씨와 화씨 모두 소수점 둘째 자리까지 출력합니다.\n",
    "- 출력 시 온도는 8칸 너비의 오른쪽 정렬로 표시합니다.\n",
    "\n",
    "**예시시 실행 결과:**\n",
    "```\n",
    "섭씨 온도를 입력하세요: 25\n",
    "┌────────────────────────┐\n",
    "│     온도 변환 결과      │\n",
    "├────────────────────────┤\n",
    "│ 섭씨:       25.00 °C   │\n",
    "│ 화씨:       77.00 °F   │\n",
    "└────────────────────────┘\n",
    "```"
   ]
  },
  {
   "cell_type": "markdown",
   "metadata": {},
   "source": [
    "\n",
    "## 문제 5: 두 점 사이의 거리 계산기\n",
    "사용자로부터 두 점의 좌표를 입력받아 두 점 사이의 거리를 계산하는 프로그램을 작성하세요.\n",
    "\n",
    "**요구사항:**\n",
    "- 거리 계산 공식: 거리 = √((x2 - x1)² + (y2 - y1)²)\n",
    "- 입력받은 좌표는 소수점 첫째 자리까지 표시합니다.\n",
    "- 계산된 거리는 소수점 셋째 자리까지 표시합니다.\n",
    "- 좌표는 괄호 안에 표시하고 각 좌표는 쉼표로 구분합니다.\n",
    "\n",
    "**예시 실행 결과:**\n",
    "```\n",
    "첫 번째 점의 x좌표를 입력하세요: 1\n",
    "첫 번째 점의 y좌표를 입력하세요: 2\n",
    "두 번째 점의 x좌표를 입력하세요: 4\n",
    "두 번째 점의 y좌표를 입력하세요: 6\n",
    "==== 두 점 사이의 거리 계산 결과 ====\n",
    "점1 좌표: (1.0,   2.0)\n",
    "점2 좌표: (4.0,   6.0)\n",
    "두 점 사이의 거리: 5.000\n",
    "```"
   ]
  },
  {
   "cell_type": "markdown",
   "metadata": {},
   "source": []
  }
 ],
 "metadata": {
  "kernelspec": {
   "display_name": "base",
   "language": "python",
   "name": "python3"
  },
  "language_info": {
   "codemirror_mode": {
    "name": "ipython",
    "version": 3
   },
   "file_extension": ".py",
   "mimetype": "text/x-python",
   "name": "python",
   "nbconvert_exporter": "python",
   "pygments_lexer": "ipython3",
   "version": "3.12.2"
  }
 },
 "nbformat": 4,
 "nbformat_minor": 2
}
