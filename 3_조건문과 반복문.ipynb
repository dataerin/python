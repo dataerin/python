{
 "cells": [
  {
   "cell_type": "markdown",
   "metadata": {},
   "source": [
    " # 파이썬 기초 문법: 조건문과 반복문"
   ]
  },
  {
   "cell_type": "markdown",
   "metadata": {},
   "source": [
    " ### 파이썬 공식 문서 관련 링크\n",
    "\n",
    "\n",
    "\n",
    " 1. **파이썬 공식 문서 (메인)**\n",
    "\n",
    "    - https://docs.python.org/ko/3/\n",
    "\n",
    "\n",
    "\n",
    " 2. **조건문 관련 문서**\n",
    "\n",
    "    - if 문: https://docs.python.org/ko/3/tutorial/controlflow.html#if-statements\n",
    "\n",
    "    - 비교 연산자: https://docs.python.org/ko/3/library/stdtypes.html#comparisons\n",
    "\n",
    "    - 논리 연산자: https://docs.python.org/ko/3/library/stdtypes.html#boolean-operations-and-or-not\n",
    "\n",
    "\n",
    "\n",
    " 3. **반복문 관련 문서**\n",
    "\n",
    "    - for 문: https://docs.python.org/ko/3/tutorial/controlflow.html#for-statements\n",
    "\n",
    "    - while 문: https://docs.python.org/ko/3/tutorial/controlflow.html#while-statements\n",
    "\n",
    "    - range() 함수: https://docs.python.org/ko/3/library/functions.html#func-range\n",
    "\n",
    "    - break와 continue: https://docs.python.org/ko/3/tutorial/controlflow.html#break-and-continue-statements-and-else-clauses-on-loops"
   ]
  },
  {
   "cell_type": "markdown",
   "metadata": {},
   "source": [
    "<마크다운>\n",
    "\n",
    "**굵은 글씨**  \n",
    "*기울인 글씨*  \n",
    "~~취소선~~  \n",
    "`코드처럼 보이게`"
   ]
  },
  {
   "cell_type": "markdown",
   "metadata": {},
   "source": [
    " ## 1. 조건문 (Conditional Statements)\n",
    "\n",
    "\n",
    "\n",
    " 조건문은 특정 조건이 참(True)인지 거짓(False)인지에 따라 다른 코드를 실행하는 제어 구조입니다.\n",
    "\n",
    "\n",
    "\n",
    " ### 1.1 if 문의 기본 구조\n",
    "\n",
    "\n",
    "\n",
    " ```python\n",
    "\n",
    " if 조건식:\n",
    "\n",
    "     # 조건이 참일 때 실행할 코드\n",
    "\n",
    " elif 다른_조건식:\n",
    "\n",
    "     # 첫 번째 조건은 거짓이고 다른 조건이 참일 때 실행할 코드\n",
    "\n",
    " else:\n",
    "\n",
    "     # 모든 조건이 거짓일 때 실행할 코드\n",
    "\n",
    " ```\n",
    "\n",
    "\n",
    "\n",
    " ### 1.2 비교 연산자\n",
    "\n",
    "\n",
    "\n",
    " | 연산자 | 설명 |\n",
    " |--------|------|\n",
    " | `==` | 같음 |\n",
    " | `!=` | 다름 |\n",
    " | `<` | 작음 |\n",
    " | `>` | 큼 |\n",
    " | `<=` | 작거나 같음 |\n",
    " | `>=` | 크거나 같음 |\n",
    "\n",
    " ### 1.3 논리 연산자\n",
    "\n",
    "\n",
    "\n",
    " | 연산자 | 설명 |\n",
    " |--------|------|\n",
    " | `and` | 두 조건 모두 참이면 참 |\n",
    " | `or` | 두 조건 중 하나라도 참이면 참 |\n",
    " | `not` | 조건의 참/거짓을 뒤집음 |\n",
    "\n",
    "\n",
    "\n",
    " ### 1.4 조건식에서 False로 평가되는 값들\n",
    "\n",
    "\n",
    "\n",
    " - `False`\n",
    "\n",
    " - `None`\n",
    "\n",
    " - `0` (정수)\n",
    "\n",
    " - `0.0` (실수)\n",
    "\n",
    " - 빈 문자열 (`''`, `\"\"`)\n",
    "\n",
    " - 빈 리스트 (`[]`)\n",
    "\n",
    " - 빈 튜플 (`()`)\n",
    "\n",
    " - 빈 딕셔너리 (`{}`)\n",
    "\n",
    " - 빈 집합 (`set()`)"
   ]
  },
  {
   "cell_type": "code",
   "execution_count": 8,
   "metadata": {},
   "outputs": [
    {
     "name": "stdout",
     "output_type": "stream",
     "text": [
      "======= 기본 if-elif-else 구조 =======\n",
      "점수: 85, 학점: B\n"
     ]
    }
   ],
   "source": [
    "# 1. 기본 if-elif-else 구조\n",
    "print(\"======= 기본 if-elif-else 구조 =======\")\n",
    "score = 85\n",
    "\n",
    "if score >= 90:\n",
    "    grade = 'A'\n",
    "elif score >= 80:\n",
    "    grade = 'B'\n",
    "elif score >= 70:\n",
    "    grade = 'C'\n",
    "elif score >= 60:\n",
    "    grade = 'D'\n",
    "else:\n",
    "    grade = 'F'\n",
    "\n",
    "print(f\"점수: {score}, 학점: {grade}\")"
   ]
  },
  {
   "cell_type": "code",
   "execution_count": 9,
   "metadata": {},
   "outputs": [
    {
     "name": "stdout",
     "output_type": "stream",
     "text": [
      "\n",
      "======= 중첩 if 문 =======\n",
      "술을 구매할 수 있습니다.\n"
     ]
    }
   ],
   "source": [
    "# 2. 중첩 if 문\n",
    "print(\"\\n======= 중첩 if 문 =======\")\n",
    "age = 22\n",
    "has_id = True\n",
    "\n",
    "if age >= 18:\n",
    "    if has_id:\n",
    "        print(\"술을 구매할 수 있습니다.\")\n",
    "    else:\n",
    "        print(\"신분증이 필요합니다.\")\n",
    "else:\n",
    "    print(\"미성년자는 술을 구매할 수 없습니다.\")\n"
   ]
  },
  {
   "cell_type": "code",
   "execution_count": 10,
   "metadata": {},
   "outputs": [
    {
     "name": "stdout",
     "output_type": "stream",
     "text": [
      "\n",
      "======= 논리 연산자 사용 =======\n",
      "날씨가 좋습니다! 외출하세요.\n"
     ]
    }
   ],
   "source": [
    "# 3. 논리 연산자 사용\n",
    "print(\"\\n======= 논리 연산자 사용 =======\")\n",
    "temperature = 25\n",
    "is_sunny = True\n",
    "\n",
    "if temperature > 20 and is_sunny:\n",
    "    print(\"날씨가 좋습니다! 외출하세요.\")\n",
    "elif temperature > 20 and not is_sunny:\n",
    "    print(\"따뜻하지만 흐립니다.\")\n",
    "elif temperature <= 20 and is_sunny:\n",
    "    print(\"선선하고 맑습니다.\")\n",
    "else:\n",
    "    print(\"춥고 흐립니다.\")"
   ]
  },
  {
   "cell_type": "code",
   "execution_count": 11,
   "metadata": {},
   "outputs": [
    {
     "name": "stdout",
     "output_type": "stream",
     "text": [
      "\n",
      "======= 조건부 표현식 =======\n",
      "나이: 20, 상태: 성인\n",
      "온도: 15, 날씨: 적당함\n"
     ]
    }
   ],
   "source": [
    "# 4. 조건부 표현식 (삼항 연산자)\n",
    "print(\"\\n======= 조건부 표현식 =======\")\n",
    "age = 20\n",
    "status = \"성인\" if age >= 18 else \"미성년자\"\n",
    "print(f\"나이: {age}, 상태: {status}\")\n",
    "\n",
    "temperature = 15\n",
    "weather = \"더움\" if temperature > 28 else (\"적당함\" if temperature >= 10 else \"추움\")\n",
    "print(f\"온도: {temperature}, 날씨: {weather}\")"
   ]
  },
  {
   "cell_type": "code",
   "execution_count": 12,
   "metadata": {},
   "outputs": [
    {
     "name": "stdout",
     "output_type": "stream",
     "text": [
      "85의 성적의 학점은 B입니다.\n"
     ]
    }
   ],
   "source": [
    "# 응용 예시\n",
    "# - 학점 출력\n",
    "# 90점 이상 : A\n",
    "# 80점 이상 : B\n",
    "# 70점 이상 : C\n",
    "# 60점 이상 : D\n",
    "# 50점 이상 : F\n",
    "\n",
    "score = 85\n",
    "grade = ''\n",
    "if score >= 90 : \n",
    "    grade = 'A'\n",
    "elif score >= 80 :\n",
    "    grade = 'B'\n",
    "elif score >= 70 :\n",
    "    grade = 'C'\n",
    "elif score >= 60 :\n",
    "    grade = 'D'\n",
    "else :\n",
    "    grade = 'F'\n",
    "\n",
    "print(f\"{score}의 성적의 학점은 {grade}입니다.\")\n",
    "\n",
    "# 꼭 조건문을 이용해야 할까?"
   ]
  },
  {
   "cell_type": "markdown",
   "metadata": {},
   "source": [
    "if에서 걸러지면 elif로 넘어가지 않음.\n",
    "계속 if문만 쓰면 조건이 만족하는한 계속 if문 실행하여 가장 마지막의 if문을 거친 값만 출력됨"
   ]
  },
  {
   "cell_type": "markdown",
   "metadata": {},
   "source": [
    " ## 2. 반복문 (Loop Statements)\n",
    "\n",
    "\n",
    "\n",
    " 반복문은 코드 블록을 여러 번 실행하는 제어 구조입니다.\n",
    "\n",
    "\n",
    "\n",
    " ### 2.1 for 문\n",
    "\n",
    "\n",
    "\n",
    " for 문은 시퀀스(리스트, 튜플, 문자열 등)나 이터러블(반복 가능한) 객체의 요소를 순회합니다.\n",
    "\n",
    "\n",
    "\n",
    " ```python\n",
    "\n",
    " for 변수 in 시퀀스:\n",
    "\n",
    "     # 반복할 코드\n",
    "\n",
    " ```\n",
    "\n",
    "\n",
    "\n",
    " ### 2.2 while 문\n",
    "\n",
    "\n",
    "\n",
    " while 문은 조건이 참인 동안 코드 블록을 계속 실행합니다.\n",
    "\n",
    "\n",
    "\n",
    " ```python\n",
    "\n",
    " while 조건식:\n",
    "\n",
    "     # 반복할 코드\n",
    "\n",
    " ```\n",
    "\n",
    "\n",
    "\n",
    " ### 2.3 반복문 제어\n",
    "\n",
    "\n",
    "\n",
    " - `break`: 반복문을 즉시 종료\n",
    "\n",
    " - `continue`: 현재 반복을 건너뛰고 다음 반복으로 진행\n",
    "\n",
    " - `else`: 반복문이 break 없이 정상적으로 완료되었을 때 실행되는 코드 블록\n",
    "\n",
    "\n",
    "\n",
    " ### 2.4 range() 함수\n",
    "\n",
    "\n",
    "\n",
    " range() 함수는 숫자 시퀀스를 생성합니다.\n",
    "\n",
    "\n",
    "\n",
    " - `range(n)`: 0부터 n-1까지의 숫자 시퀀스\n",
    "\n",
    " - `range(start, stop)`: start부터 stop-1까지의 숫자 시퀀스\n",
    "\n",
    " - `range(start, stop, step)`: start부터 stop-1까지 step 간격으로 증가하는 숫자 시퀀스"
   ]
  },
  {
   "cell_type": "code",
   "execution_count": 38,
   "metadata": {},
   "outputs": [
    {
     "name": "stdout",
     "output_type": "stream",
     "text": [
      "\n",
      "======= for 문과 리스트 =======\n",
      "과일 목록:\n",
      "- 사과\n",
      "- 바나나\n",
      "- 체리\n",
      "- 딸기\n",
      "- 포도\n"
     ]
    }
   ],
   "source": [
    "# 5. for 문과 리스트\n",
    "print(\"\\n======= for 문과 리스트 =======\")\n",
    "fruits = [\"사과\", \"바나나\", \"체리\", \"딸기\", \"포도\"]\n",
    "\n",
    "print(\"과일 목록:\")\n",
    "for fruit in fruits:\n",
    "    print(f\"- {fruit}\")"
   ]
  },
  {
   "cell_type": "code",
   "execution_count": 29,
   "metadata": {},
   "outputs": [
    {
     "name": "stdout",
     "output_type": "stream",
     "text": [
      "\n",
      "======= for 문과 range() 함수 =======\n",
      "range(5):\n",
      "0 1 2 3 4 \n",
      "\n",
      "range(1, 6):\n",
      "1 2 3 4 5 \n",
      "\n",
      "range(0, 10, 2):\n",
      "0 2 4 6 8 \n"
     ]
    }
   ],
   "source": [
    "# 6. for 문과 range() 함수\n",
    "print(\"\\n======= for 문과 range() 함수 =======\")\n",
    "print(\"range(5):\")\n",
    "for i in range(5):\n",
    "    print(i, end=' ')\n",
    "print()\n",
    "\n",
    "print(\"\\nrange(1, 6):\")\n",
    "for i in range(1, 6):\n",
    "    print(i, end=' ')\n",
    "print()\n",
    "\n",
    "print(\"\\nrange(0, 10, 2):\")\n",
    "for i in range(0, 10, 2):\n",
    "    print(i, end=' ')\n",
    "print()"
   ]
  },
  {
   "cell_type": "code",
   "execution_count": 30,
   "metadata": {},
   "outputs": [
    {
     "name": "stdout",
     "output_type": "stream",
     "text": [
      "\n",
      "======= for 문과 문자열 =======\n",
      "문자열 'Python'의 각 문자:\n",
      "P y t h o n \n"
     ]
    }
   ],
   "source": [
    "# 7. for 문과 문자열\n",
    "print(\"\\n======= for 문과 문자열 =======\")\n",
    "message = \"Python\"\n",
    "print(f\"문자열 '{message}'의 각 문자:\")\n",
    "for char in message:\n",
    "    print(char, end=' ')\n",
    "print()"
   ]
  },
  {
   "cell_type": "code",
   "execution_count": 31,
   "metadata": {},
   "outputs": [
    {
     "name": "stdout",
     "output_type": "stream",
     "text": [
      "\n",
      "======= for 문과 enumerate() =======\n",
      "색상 목록 (인덱스 포함):\n",
      "0: 빨강\n",
      "1: 파랑\n",
      "2: 초록\n",
      "3: 노랑\n"
     ]
    }
   ],
   "source": [
    "# 8. for 문과 enumerate()\n",
    "print(\"\\n======= for 문과 enumerate() =======\")\n",
    "colors = [\"빨강\", \"파랑\", \"초록\", \"노랑\"]\n",
    "print(\"색상 목록 (인덱스 포함):\")\n",
    "for index, color in enumerate(colors):\n",
    "    print(f\"{index}: {color}\")"
   ]
  },
  {
   "cell_type": "code",
   "execution_count": 32,
   "metadata": {},
   "outputs": [
    {
     "name": "stdout",
     "output_type": "stream",
     "text": [
      "\n",
      "======= for 문과 zip() 함수 =======\n",
      "과일 정보 (과일명, 가격, 원산지):\n",
      "사과: 1500원 (한국산)\n",
      "바나나: 3000원 (필리핀산)\n",
      "딸기: 4500원 (미국산)\n",
      "포도: 5000원 (칠레산)\n"
     ]
    }
   ],
   "source": [
    "# 9. for 문과 zip() 함수\n",
    "print(\"\\n======= for 문과 zip() 함수 =======\")\n",
    "fruits = [\"사과\", \"바나나\", \"딸기\", \"포도\"]\n",
    "prices = [1500, 3000, 4500, 5000]\n",
    "origins = [\"한국\", \"필리핀\", \"미국\", \"칠레\"]\n",
    "\n",
    "print(\"과일 정보 (과일명, 가격, 원산지):\")\n",
    "for fruit, price, origin in zip(fruits, prices, origins):\n",
    "    print(f\"{fruit}: {price}원 ({origin}산)\")"
   ]
  },
  {
   "cell_type": "code",
   "execution_count": 33,
   "metadata": {},
   "outputs": [
    {
     "name": "stdout",
     "output_type": "stream",
     "text": [
      "\n",
      "======= while 문 기본 =======\n",
      "while 카운트다운:\n",
      "1 2 3 4 5 \n"
     ]
    }
   ],
   "source": [
    "# 10. while 문 기본\n",
    "print(\"\\n======= while 문 기본 =======\")\n",
    "count = 1\n",
    "print(\"while 카운트다운:\")\n",
    "while count <= 5:\n",
    "    print(count, end=' ')\n",
    "    count += 1\n",
    "print()"
   ]
  },
  {
   "cell_type": "code",
   "execution_count": 34,
   "metadata": {},
   "outputs": [
    {
     "name": "stdout",
     "output_type": "stream",
     "text": [
      "\n",
      "======= break 문 =======\n",
      "1부터 시작해서 합이 20을 초과하면 중단:\n",
      "1을 더하면 합계는 1\n",
      "2을 더하면 합계는 3\n",
      "3을 더하면 합계는 6\n",
      "4을 더하면 합계는 10\n",
      "5을 더하면 합계는 15\n",
      "6을 더하면 합계는 21\n",
      "합계가 20을 초과했으므로 6에서 중단\n"
     ]
    }
   ],
   "source": [
    "# 11. break 문\n",
    "print(\"\\n======= break 문 =======\")\n",
    "print(\"1부터 시작해서 합이 20을 초과하면 중단:\")\n",
    "total = 0\n",
    "for num in range(1, 10):\n",
    "    total += num\n",
    "    print(f\"{num}을 더하면 합계는 {total}\")\n",
    "    if total > 20:\n",
    "        print(f\"합계가 20을 초과했으므로 {num}에서 중단\")\n",
    "        break"
   ]
  },
  {
   "cell_type": "code",
   "execution_count": 35,
   "metadata": {},
   "outputs": [
    {
     "name": "stdout",
     "output_type": "stream",
     "text": [
      "\n",
      "======= continue 문 =======\n",
      "1부터 10까지의 홀수만 출력:\n",
      "1 3 5 7 9 \n"
     ]
    }
   ],
   "source": [
    "# 12. continue 문\n",
    "print(\"\\n======= continue 문 =======\")\n",
    "print(\"1부터 10까지의 홀수만 출력:\")\n",
    "for num in range(1, 11):\n",
    "    if num % 2 == 0:  # 짝수면 건너뛰기\n",
    "        continue\n",
    "    print(num, end=' ')\n",
    "print()"
   ]
  },
  {
   "cell_type": "code",
   "execution_count": 36,
   "metadata": {},
   "outputs": [
    {
     "name": "stdout",
     "output_type": "stream",
     "text": [
      "\n",
      "======= 반복문의 else 절 =======\n",
      "숫자 1-5 중에서 7 찾기:\n",
      "현재 숫자: 1\n",
      "현재 숫자: 2\n",
      "현재 숫자: 3\n",
      "현재 숫자: 4\n",
      "현재 숫자: 5\n",
      "7을 찾지 못했습니다.\n"
     ]
    }
   ],
   "source": [
    "# 13. 반복문의 else 절\n",
    "print(\"\\n======= 반복문의 else 절 =======\")\n",
    "print(\"숫자 1-5 중에서 7 찾기:\")\n",
    "for num in range(1, 6):\n",
    "    print(f\"현재 숫자: {num}\")\n",
    "    if num == 7:\n",
    "        print(\"7을 찾았습니다!\")\n",
    "        break\n",
    "else:\n",
    "    print(\"7을 찾지 못했습니다.\")"
   ]
  },
  {
   "cell_type": "code",
   "execution_count": 37,
   "metadata": {},
   "outputs": [
    {
     "name": "stdout",
     "output_type": "stream",
     "text": [
      "\n",
      "======= 중첩 반복문 =======\n",
      "구구단 2~9단:\n",
      "2단:\n",
      "2 × 1 = 2\n",
      "2 × 2 = 4\n",
      "2 × 3 = 6\n",
      "2 × 4 = 8\n",
      "2 × 5 = 10\n",
      "2 × 6 = 12\n",
      "2 × 7 = 14\n",
      "2 × 8 = 16\n",
      "2 × 9 = 18\n",
      "\n",
      "3단:\n",
      "3 × 1 = 3\n",
      "3 × 2 = 6\n",
      "3 × 3 = 9\n",
      "3 × 4 = 12\n",
      "3 × 5 = 15\n",
      "3 × 6 = 18\n",
      "3 × 7 = 21\n",
      "3 × 8 = 24\n",
      "3 × 9 = 27\n",
      "\n",
      "4단:\n",
      "4 × 1 = 4\n",
      "4 × 2 = 8\n",
      "4 × 3 = 12\n",
      "4 × 4 = 16\n",
      "4 × 5 = 20\n",
      "4 × 6 = 24\n",
      "4 × 7 = 28\n",
      "4 × 8 = 32\n",
      "4 × 9 = 36\n",
      "\n",
      "5단:\n",
      "5 × 1 = 5\n",
      "5 × 2 = 10\n",
      "5 × 3 = 15\n",
      "5 × 4 = 20\n",
      "5 × 5 = 25\n",
      "5 × 6 = 30\n",
      "5 × 7 = 35\n",
      "5 × 8 = 40\n",
      "5 × 9 = 45\n",
      "\n",
      "6단:\n",
      "6 × 1 = 6\n",
      "6 × 2 = 12\n",
      "6 × 3 = 18\n",
      "6 × 4 = 24\n",
      "6 × 5 = 30\n",
      "6 × 6 = 36\n",
      "6 × 7 = 42\n",
      "6 × 8 = 48\n",
      "6 × 9 = 54\n",
      "\n",
      "7단:\n",
      "7 × 1 = 7\n",
      "7 × 2 = 14\n",
      "7 × 3 = 21\n",
      "7 × 4 = 28\n",
      "7 × 5 = 35\n",
      "7 × 6 = 42\n",
      "7 × 7 = 49\n",
      "7 × 8 = 56\n",
      "7 × 9 = 63\n",
      "\n",
      "8단:\n",
      "8 × 1 = 8\n",
      "8 × 2 = 16\n",
      "8 × 3 = 24\n",
      "8 × 4 = 32\n",
      "8 × 5 = 40\n",
      "8 × 6 = 48\n",
      "8 × 7 = 56\n",
      "8 × 8 = 64\n",
      "8 × 9 = 72\n",
      "\n",
      "9단:\n",
      "9 × 1 = 9\n",
      "9 × 2 = 18\n",
      "9 × 3 = 27\n",
      "9 × 4 = 36\n",
      "9 × 5 = 45\n",
      "9 × 6 = 54\n",
      "9 × 7 = 63\n",
      "9 × 8 = 72\n",
      "9 × 9 = 81\n",
      "\n"
     ]
    }
   ],
   "source": [
    "# 14. 중첩 반복문\n",
    "print(\"\\n======= 중첩 반복문 =======\")\n",
    "print(\"구구단 2~9단:\")\n",
    "for i in range(2, 10):\n",
    "    print(f\"{i}단:\")\n",
    "    for j in range(1, 10):\n",
    "        print(f\"{i} × {j} = {i * j}\")\n",
    "    print()"
   ]
  },
  {
   "cell_type": "markdown",
   "metadata": {},
   "source": [
    " ## 3. 조건문과 반복문 함께 사용하기\n",
    "\n",
    "\n",
    "\n",
    " 조건문과 반복문을 조합하면 더 복잡한 제어 흐름을 구현할 수 있습니다."
   ]
  },
  {
   "cell_type": "code",
   "execution_count": 39,
   "metadata": {},
   "outputs": [
    {
     "name": "stdout",
     "output_type": "stream",
     "text": [
      "\n",
      "======= 조건과 반복의 조합 =======\n",
      "80점 이상 점수:\n",
      "85 92 95 88 \n",
      "평균 점수: 81.88\n",
      "평균(81.88) 이상인 점수의 개수: 4\n"
     ]
    }
   ],
   "source": [
    "# 15. 조건과 반복의 조합\n",
    "print(\"\\n======= 조건과 반복의 조합 =======\")\n",
    "scores = [85, 92, 78, 95, 88, 63, 75, 79]\n",
    "\n",
    "# 80점 이상인 점수만 출력\n",
    "print(\"80점 이상 점수:\")\n",
    "high_scores = []\n",
    "for score in scores:\n",
    "    if score >= 80:\n",
    "        high_scores.append(score)\n",
    "        print(score, end=' ')\n",
    "print()\n",
    "\n",
    "# 평균 계산\n",
    "total = sum(scores)\n",
    "average = total / len(scores)\n",
    "print(f\"평균 점수: {average:.2f}\")\n",
    "\n",
    "# 평균 이상인 점수 개수 세기\n",
    "count_above_avg = 0\n",
    "for score in scores:\n",
    "    if score > average:\n",
    "        count_above_avg += 1\n",
    "print(f\"평균({average:.2f}) 이상인 점수의 개수: {count_above_avg}\")\n"
   ]
  },
  {
   "cell_type": "code",
   "execution_count": 40,
   "metadata": {},
   "outputs": [
    {
     "name": "stdout",
     "output_type": "stream",
     "text": [
      "\n",
      "======= 다양한 패턴의 반복문 =======\n",
      "별 피라미드:\n",
      "*\n",
      "**\n",
      "***\n",
      "****\n",
      "*****\n",
      "\n",
      "숫자 삼각형:\n",
      "1 \n",
      "1 2 \n",
      "1 2 3 \n",
      "1 2 3 4 \n",
      "1 2 3 4 5 \n",
      "\n",
      "역삼각형:\n",
      "*********\n",
      " *******\n",
      "  *****\n",
      "   ***\n",
      "    *\n"
     ]
    }
   ],
   "source": [
    "# 16. 다양한 패턴의 반복문\n",
    "print(\"\\n======= 다양한 패턴의 반복문 =======\")\n",
    "\n",
    "# 패턴 1: 별 피라미드\n",
    "print(\"별 피라미드:\")\n",
    "for i in range(1, 6):\n",
    "    print('*' * i)\n",
    "\n",
    "# 패턴 2: 숫자 삼각형\n",
    "print(\"\\n숫자 삼각형:\")\n",
    "for i in range(1, 6):\n",
    "    for j in range(1, i + 1):\n",
    "        print(j, end=' ')\n",
    "    print()\n",
    "\n",
    "# 패턴 3: 역삼각형\n",
    "print(\"\\n역삼각형:\")\n",
    "for i in range(5, 0, -1):\n",
    "    print(' ' * (5 - i) + '*' * (2 * i - 1))\n"
   ]
  },
  {
   "cell_type": "markdown",
   "metadata": {},
   "source": [
    "# 조건문과 반복문 실습 문제\n",
    "\n",
    "## 문제 1: Up & Down 게임\n",
    "\n",
    "컴퓨터가 1부터 100 사이의 임의의 숫자를 선택하고, 사용자가 그 숫자를 맞추는 게임을 만드세요.\n",
    "\n",
    "**요구사항:**\n",
    "- 컴퓨터는 1-100 사이의 난수를 생성합니다.\n",
    "- 사용자가 숫자를 입력할 때마다 Up(더 큰 숫자), Down(더 작은 숫자) 힌트를 제공합니다.\n",
    "- 사용자가 정답을 맞히면 축하 메시지와 시도 횟수를 출력합니다.\n",
    "- 사용자가 10번 이상 시도했을 경우 추가 힌트를 제공합니다.\n",
    "\n",
    "**참고**\n",
    "```\n",
    "import random\n",
    "answer = random.randint(1, 100) # 1부터 100 사이의 난수 생성\n",
    "```\n",
    "\n",
    "**예상 실행 결과:**\n",
    "```\n",
    "=== Up & Down 게임 ===\n",
    "1부터 100 사이의 숫자를 맞춰보세요!\n",
    "\n",
    "숫자를 입력하세요: 50\n",
    "Down! 더 작은 숫자를 입력하세요.\n",
    "\n",
    "숫자를 입력하세요: 25\n",
    "Up! 더 큰 숫자를 입력하세요.\n",
    "\n",
    "숫자를 입력하세요: 37\n",
    "Down! 더 작은 숫자를 입력하세요.\n",
    "\n",
    "숫자를 입력하세요: 31\n",
    "정답입니다! 31을 맞추셨습니다.\n",
    "총 시도 횟수: 4번\n",
    "```"
   ]
  },
  {
   "cell_type": "markdown",
   "metadata": {},
   "source": [
    "import random\n",
    "answer = random.randint(1, 100) # 1부터 100 사이의 난수 생성\n",
    "cnt = 0\n",
    "while True :\n",
    "    user_num = int(input(\"1~100 사이의 숫자를 입력해주세요.\"))\n",
    "    cnt += 1\n",
    "    if user_num == answer :\n",
    "        print(f'정답입니다! {answer}을 맞추셨습니다.')\n",
    "        print(f'총 시도 횟수: {cnt}')\n",
    "        break\n",
    "    elif user_num > answer :\n",
    "        print(\"Down! 더 작은 숫자를 입력하세요.\")\n",
    "    else :\n",
    "        print(\"Up! 더 큰 숫자를 입력하세요.\")"
   ]
  },
  {
   "cell_type": "markdown",
   "metadata": {},
   "source": [
    "## 문제 2: 가위, 바위, 보 게임\n",
    "\n",
    "사용자와 컴퓨터가 가위, 바위, 보 게임을 하는 프로그램을 작성하세요.\n",
    "\n",
    "**요구사항:**\n",
    "- 사용자는 '가위', '바위', '보' 중 하나를 입력합니다.\n",
    "- 컴퓨터는 무작위로 '가위', '바위', '보' 중 하나를 선택합니다.\n",
    "- 승패 결과를 출력하고, 사용자가 이길 때까지 게임을 계속합니다.\n",
    "- 게임이 끝나면 총 게임 횟수와 승/패/무 기록을 출력합니다.\n",
    "\n",
    "**참고**\n",
    "```\n",
    "import random\n",
    "options = [\"가위\", \"바위\", \"보\"]\n",
    "computer_choice = random.choice(options) # 컴퓨터의 선택 결정\n",
    "```\n",
    "\n",
    "**예상 실행 결과:**\n",
    "```\n",
    "=== 가위 바위 보 게임 ===\n",
    "가위, 바위, 보 중 하나를 입력하세요: 가위\n",
    "컴퓨터: 바위\n",
    "컴퓨터가 이겼습니다!\n",
    "\n",
    "가위, 바위, 보 중 하나를 입력하세요: 보\n",
    "컴퓨터: 바위\n",
    "사용자가 이겼습니다!\n",
    "\n",
    "게임 결과:\n",
    "총 게임 수: 2\n",
    "승: 1, 패: 1, 무: 0\n",
    "```"
   ]
  },
  {
   "cell_type": "markdown",
   "metadata": {},
   "source": [
    "## 문제 3: 다양한 패턴 출력하기\n",
    "\n",
    "다음과 같은 다양한 패턴을 출력하는 프로그램을 작성하세요.\n",
    "\n",
    "**요구사항:**\n",
    "- 사용자로부터 패턴의 크기(n)를 입력받습니다.\n",
    "- 아래 예시와 같은 여러 패턴을 출력합니다.\n",
    "- 각 패턴을 출력할 때 반복문을 적절히 활용하세요.\n",
    "\n",
    "**예상 실행 결과 (n=5 일 때):**\n",
    "\n",
    "1. 직각삼각형:\n",
    "```\n",
    "*\n",
    "**\n",
    "***\n",
    "****\n",
    "*****\n",
    "```\n",
    "\n",
    "2. 역직각삼각형:\n",
    "```\n",
    "*****\n",
    "****\n",
    "***\n",
    "**\n",
    "*\n",
    "```\n",
    "\n",
    "3. 피라미드:\n",
    "```\n",
    "    *\n",
    "   ***\n",
    "  *****\n",
    " *******\n",
    "*********\n",
    "```\n",
    "\n",
    "4. 마름모:\n",
    "```\n",
    "    *\n",
    "   ***\n",
    "  *****\n",
    "   ***\n",
    "    *\n",
    "```\n",
    "\n",
    "5. 중첩 사각형:\n",
    "```\n",
    "*****\n",
    "*   *\n",
    "*   *\n",
    "*   *\n",
    "*****\n",
    "```"
   ]
  },
  {
   "cell_type": "markdown",
   "metadata": {},
   "source": [
    "## 문제 4: 숫자 패턴 출력 문제\n",
    "\n",
    "다음은 다양한 패턴으로 숫자를 출력하는 문제들입니다. 반복문을 활용하여 아래 패턴들을 출력해보세요.\n",
    "\n",
    "1. 숫자 사각형 패턴\n",
    "\n",
    "다음과 같은 숫자 사각형을 출력하는 프로그램을 작성하세요.\n",
    "\n",
    "**요구사항:**\n",
    "- 사용자로부터 행(row)과 열(col)을 입력받습니다.\n",
    "- 숫자는 1부터 시작하여 왼쪽에서 오른쪽, 위에서 아래로 증가합니다.\n",
    "- 숫자는 두 자리로 표시하며, 한 자리 수인 경우 앞에 0을 붙입니다.\n",
    "\n",
    "**예상 실행 결과 (row=4, col=5):**\n",
    "```\n",
    "01 02 03 04 05\n",
    "06 07 08 09 10\n",
    "11 12 13 14 15\n",
    "16 17 18 19 20\n",
    "```\n",
    "\n",
    "2. 지지그재그 숫자 사각형\n",
    "\n",
    "다음과 같은 지그재그 패턴으로 숫자 사각형을 출력하는 프로그램을 작성하세요.\n",
    "\n",
    "**요구사항:**\n",
    "- 홀수 행은 왼쪽에서 오른쪽으로 증가\n",
    "- 짝수 행은 오른쪽에서 왼쪽으로 증가\n",
    "\n",
    "**예상 실행 결과 (row=4, col=5):**\n",
    "```\n",
    "01 02 03 04 05\n",
    "10 09 08 07 06\n",
    "11 12 13 14 15\n",
    "20 19 18 17 16\n",
    "```"
   ]
  },
  {
   "cell_type": "markdown",
   "metadata": {},
   "source": [
    "\n",
    "## 문제 5: 도전 문제\n",
    "\n",
    "1. 소수 출력기\n",
    "\n",
    "사용자로부터 범위(시작 수와 끝 수)를 입력받아 해당 범위 내의 모든 소수를 출력하는 프로그램을 작성하세요.\n",
    "\n",
    "**요구사항:**\n",
    "- 소수는 1과 자기 자신으로만 나누어 떨어지는 1보다 큰 자연수입니다.\n",
    "- 입력받은 범위 내의 모든 소수를 한 줄에 5개씩 출력합니다.\n",
    "- 소수의 개수도 함께 출력합니다.\n",
    "\n",
    "**예상 실행 결과:**\n",
    "```\n",
    "시작 수를 입력하세요: 10\n",
    "끝 수를 입력하세요: 50\n",
    "\n",
    "10부터 50까지의 소수:\n",
    "11 13 17 19 23\n",
    "29 31 37 41 43\n",
    "47\n",
    "\n",
    "소수 개수: 11개\n",
    "```\n",
    "\n",
    "2. 나선형 숫자 출력\n",
    "\n",
    "다음과 같이 나선형으로 숫자가 증가하는 패턴을 출력하는 프로그램을 작성하세요.\n",
    "\n",
    "**요구사항:**\n",
    "- n x n 크기의 사각형에 나선형으로 숫자를 배치합니다.\n",
    "- 숫자는 가운데에서 시작하여 시계방향으로 증가합니다.\n",
    "\n",
    "![image](./assets/달팽이순회.png)\n",
    "\n",
    "\n",
    "**예상 실행 결과 (n=5):**\n",
    "```\n",
    "01 02 03 04 05\n",
    "16 17 18 19 06\n",
    "15 24 25 20 07\n",
    "14 23 22 21 08\n",
    "13 12 11 10 09\n",
    "```\n",
    "\n",
    "**이 문제는 약간 복잡하므로, 방향 전환과 경계 확인이 필요합니다.**"
   ]
  }
 ],
 "metadata": {
  "kernelspec": {
   "display_name": "Python 3",
   "language": "python",
   "name": "python3"
  },
  "language_info": {
   "codemirror_mode": {
    "name": "ipython",
    "version": 3
   },
   "file_extension": ".py",
   "mimetype": "text/x-python",
   "name": "python",
   "nbconvert_exporter": "python",
   "pygments_lexer": "ipython3",
   "version": "3.12.1"
  }
 },
 "nbformat": 4,
 "nbformat_minor": 2
}
